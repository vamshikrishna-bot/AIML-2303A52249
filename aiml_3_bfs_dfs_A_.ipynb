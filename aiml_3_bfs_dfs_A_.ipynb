{
  "nbformat": 4,
  "nbformat_minor": 0,
  "metadata": {
    "colab": {
      "provenance": [],
      "name": "aiml-3 bfs / dfs / A*.ipynb"
    },
    "kernelspec": {
      "name": "python3",
      "display_name": "Python 3"
    },
    "language_info": {
      "name": "python"
    }
  },
  "cells": [
    {
      "cell_type": "code",
      "execution_count": 1,
      "metadata": {
        "id": "2XCYjlP2H1iS"
      },
      "outputs": [],
      "source": [
        "import numpy as np\n",
        "import scipy as sp\n",
        "import pandas as pd"
      ]
    },
    {
      "cell_type": "code",
      "source": [
        "from collections import deque\n",
        "def bfs(graph,start):\n",
        "  visited = set()\n",
        "  queue = deque([start])\n",
        "  result = []\n",
        "  while queue:\n",
        "    vertex = queue.popleft()\n",
        "    if veretex not  in visited:\n",
        "      visited.add(vertex)\n",
        "      result.append(vertex)"
      ],
      "metadata": {
        "id": "UI_BMdfSZt_E"
      },
      "execution_count": 2,
      "outputs": []
    },
    {
      "cell_type": "code",
      "source": [
        "def bfs(graph, start_node):\n",
        "    visited = set()\n",
        "    queue = [start_node]\n",
        "    result = []\n",
        "    while queue:\n",
        "        vertex = queue.pop(0)\n",
        "        if vertex not in visited:\n",
        "            result.append(vertex)\n",
        "            visited.add(vertex)\n",
        "            queue.extend(neighbour for neighbour in graph[vertex] if neighbour not in visited)\n",
        "    return result\n",
        "if __name__ == '__main__':\n",
        "    graph = {\n",
        "        '0': ['1', '3'],\n",
        "        '1': ['0', '2', '3'],\n",
        "        '3': ['0', '4'],\n",
        "        '2': ['1'],\n",
        "        '4': ['2', '5'],\n",
        "        '5': ['2', '4']\n",
        "    }\n",
        "    start_node = '0'\n",
        "    print(f\"BFS traversal starting from vertex {start_node}: {bfs(graph, start_node)}\")"
      ],
      "metadata": {
        "colab": {
          "base_uri": "https://localhost:8080/"
        },
        "id": "5m6IKjdeZpPC",
        "outputId": "6d9fd72d-4815-467a-875c-899b4807224b"
      },
      "execution_count": 3,
      "outputs": [
        {
          "output_type": "stream",
          "name": "stdout",
          "text": [
            "BFS traversal starting from vertex 0: ['0', '1', '3', '2', '4', '5']\n"
          ]
        }
      ]
    },
    {
      "cell_type": "code",
      "source": [
        "\n",
        "graph1={\n",
        "    'A':['B','C','G'],\n",
        "    'B':['A'],\n",
        "    'C':['A','D','F'],\n",
        "    'D':['A','C','E','H'],\n",
        "    'E':['D','H','F'],\n",
        "    'F':['C','E'],\n",
        "    'G':['A','D','H'],\n",
        "    'H':['D','E','G']\n",
        "}\n",
        "\n",
        "def dfs(graph,node,visited):\n",
        "  if node not in visited:\n",
        "    visited.append(node)\n",
        "    for k in graph[node]:\n",
        "      dfs(graph,k,visited)\n",
        "  return visited\n",
        "\n",
        "visited=dfs(graph1,'B',[])\n",
        "print(visited)"
      ],
      "metadata": {
        "colab": {
          "base_uri": "https://localhost:8080/"
        },
        "id": "J_Usb-kfPbdS",
        "outputId": "f3dbb451-7dcb-497a-a84f-bd6d20493628"
      },
      "execution_count": 4,
      "outputs": [
        {
          "output_type": "stream",
          "name": "stdout",
          "text": [
            "['B', 'A', 'C', 'D', 'E', 'H', 'G', 'F']\n"
          ]
        }
      ]
    },
    {
      "cell_type": "code",
      "source": [
        "from copy import deepcopy\n",
        "import numpy as np\n",
        "import time\n",
        "\n",
        "def bestsolution(state):\n",
        "    bestsol = np.array([], int).reshape(-1, 9)\n",
        "    count = len(state) - 1\n",
        "    while count != -1:\n",
        "        bestsol = np.insert(bestsol, 0, state[count]['puzzle'], 0)\n",
        "        count = state[count]['parent']\n",
        "    return bestsol.reshape(-1, 3, 3)\n",
        "\n",
        "def misplaced_tiles(puzzle, goal):\n",
        "    mscost = np.sum(puzzle != goal) - 1\n",
        "    return mscost if mscost > 0 else 0\n",
        "\n",
        "def coordinates(puzzle):\n",
        "    pos = np.array(range(9))\n",
        "    for p, q in enumerate(puzzle):\n",
        "        pos[q] = p\n",
        "    return pos\n",
        "\n",
        "def evaluvate_misplaced(puzzle, goal):\n",
        "    steps = np.array([\n",
        "        ('up', [0, 1, 2], -3),\n",
        "        ('down', [6, 7, 8], 3),\n",
        "        ('left', [0, 3, 6], -1),\n",
        "        ('right', [2, 5, 8], 1)\n",
        "    ], dtype=[('move', str, 1), ('position', list), ('head', int)])\n",
        "\n",
        "    dtstate = np.dtype([\n",
        "        ('puzzle', list),\n",
        "        ('parent', int),\n",
        "        ('gn', int),\n",
        "        ('hn', int)\n",
        "    ])\n",
        "\n",
        "    costg = coordinates(goal)\n",
        "    parent = -1\n",
        "    gn = 0\n",
        "    hn = misplaced_tiles(coordinates(puzzle), costg)\n",
        "    state = np.array([(puzzle, parent, gn, hn)], dtstate)\n",
        "\n",
        "    dtpriority = np.dtype([('position', int), ('fn', int)])\n",
        "    priority = np.array([(0, hn)], dtpriority)\n",
        "\n",
        "    while True:\n",
        "        priority = np.sort(priority, kind='mergesort', order=['fn', 'position'])\n",
        "        position, fn = priority[0]\n",
        "        priority = np.delete(priority, 0, 0)\n",
        "        puzzle, parent, gn, hn = state[position]\n",
        "        puzzle = np.array(puzzle)\n",
        "\n",
        "        blank = int(np.where(puzzle == 0)[0][0])\n",
        "        gn += 1\n",
        "        start_time = time.time()\n",
        "\n",
        "        for s in steps:\n",
        "            if blank not in s['position']:\n",
        "                openstates = deepcopy(puzzle)\n",
        "                openstates[blank], openstates[blank + s['head']] = openstates[blank + s['head']], openstates[blank]\n",
        "\n",
        "                if not (np.all(list(state['puzzle']) == openstates, 1)).any():\n",
        "                    end_time = time.time()\n",
        "                    if (end_time - start_time) > 2:\n",
        "                        print(\"The 8 puzzle is unsolvable\\n\")\n",
        "                        break\n",
        "\n",
        "                    hn = misplaced_tiles(coordinates(openstates), costg)\n",
        "                    q = np.array([(openstates, position, gn, hn)], dtstate)\n",
        "                    state = np.append(state, q, 0)\n",
        "                    fn = gn + hn\n",
        "                    q = np.array([(len(state) - 1, fn)], dtpriority)\n",
        "                    priority = np.append(priority, q, 0)\n",
        "\n",
        "                    if np.array_equal(openstates, goal):\n",
        "                        print('The 8 puzzle is solvable\\n')\n",
        "                        return state, len(priority)\n",
        "\n",
        "    return state, len(priority)\n",
        "\n",
        "puzzle = [2, 8, 3, 1, 6, 4, 7, 0, 5]\n",
        "goal = [1, 2, 3, 8, 0, 4, 7, 6, 5]\n",
        "\n",
        "state, visited = evaluvate_misplaced(puzzle, goal)\n",
        "bestpath = bestsolution(state)\n",
        "print(str(bestpath).replace('[', ' ').replace(']', ''))\n",
        "totalmoves = len(bestpath) - 1\n",
        "print('\\nSteps to reach goal:', totalmoves)\n",
        "visit = len(state) - visited\n",
        "print('Total nodes visited: ', visit, \"\\n\")"
      ],
      "metadata": {
        "id": "M70hih_DfVLb",
        "outputId": "7416a7ba-804d-432f-dc24-3cefc95b795d",
        "colab": {
          "base_uri": "https://localhost:8080/"
        }
      },
      "execution_count": 5,
      "outputs": [
        {
          "output_type": "stream",
          "name": "stdout",
          "text": [
            "The 8 puzzle is solvable\n",
            "\n",
            "   2 8 3\n",
            "   1 6 4\n",
            "   7 0 5\n",
            "\n",
            "   2 8 3\n",
            "   1 0 4\n",
            "   7 6 5\n",
            "\n",
            "   2 0 3\n",
            "   1 8 4\n",
            "   7 6 5\n",
            "\n",
            "   0 2 3\n",
            "   1 8 4\n",
            "   7 6 5\n",
            "\n",
            "   1 2 3\n",
            "   0 8 4\n",
            "   7 6 5\n",
            "\n",
            "   1 2 3\n",
            "   8 0 4\n",
            "   7 6 5\n",
            "\n",
            "Steps to reach goal: 5\n",
            "Total nodes visited:  6 \n",
            "\n"
          ]
        }
      ]
    }
  ]
}