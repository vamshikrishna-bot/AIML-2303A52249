{
  "nbformat": 4,
  "nbformat_minor": 0,
  "metadata": {
    "colab": {
      "provenance": []
    },
    "kernelspec": {
      "name": "python3",
      "display_name": "Python 3"
    },
    "language_info": {
      "name": "python"
    }
  },
  "cells": [
    {
      "cell_type": "code",
      "execution_count": 28,
      "metadata": {
        "colab": {
          "base_uri": "https://localhost:8080/"
        },
        "id": "_Ozi6NbEr8nT",
        "outputId": "d9b5ff93-6d50-41eb-8dcd-3a78bf1867d1"
      },
      "outputs": [
        {
          "output_type": "stream",
          "name": "stdout",
          "text": [
            "      Car ID      Brand     Model  Year   Color  Mileage  Price       Location\n",
            "0          1     Toyota     Camry  2018   White    45000  18000    Los Angeles\n",
            "1          2      Honda     Civic  2019    Blue    35000  16000       New York\n",
            "2          3       Ford     Focus  2017  Silver    55000  14000        Chicago\n",
            "3          4  Chevrolet     Cruze  2016     Red    60000  12000          Miami\n",
            "4          5    Hyundai   Elantra  2018   Black    40000  15000  San Francisco\n",
            "...      ...        ...       ...   ...     ...      ...    ...            ...\n",
            "1995    1996    Hyundai  Palisade  2019  Silver    65000  22000  San Francisco\n",
            "1996    1997     Toyota    Sienna  2018     Red    55000  16000         Dallas\n",
            "1997    1998      Honda       Fit  2018    Gray    50000  14000        Atlanta\n",
            "1998    1999       Ford    Fusion  2017   White    55000  19000        Phoenix\n",
            "1999    2000  Chevrolet    Malibu  2016    Blue    30000  23000        Houston\n",
            "\n",
            "[2000 rows x 8 columns]\n",
            "Car ID       int64\n",
            "Brand       object\n",
            "Model       object\n",
            "Year         int64\n",
            "Color       object\n",
            "Mileage      int64\n",
            "Price        int64\n",
            "Location    object\n",
            "dtype: object\n"
          ]
        }
      ],
      "source": [
        "import pandas as pd\n",
        "d=pd.read_csv(\"/content/Car Data.csv\")\n",
        "print(d)\n",
        "print(d.dtypes)"
      ]
    },
    {
      "cell_type": "code",
      "source": [
        "z = d[['Mileage', 'Price']]\n",
        "print(z)\n",
        "print(d.dtypes)"
      ],
      "metadata": {
        "colab": {
          "base_uri": "https://localhost:8080/"
        },
        "id": "qqIHHzeHsE7r",
        "outputId": "320765a0-6e1f-4021-c3bb-e7da7cde4d58"
      },
      "execution_count": 29,
      "outputs": [
        {
          "output_type": "stream",
          "name": "stdout",
          "text": [
            "      Mileage  Price\n",
            "0       45000  18000\n",
            "1       35000  16000\n",
            "2       55000  14000\n",
            "3       60000  12000\n",
            "4       40000  15000\n",
            "...       ...    ...\n",
            "1995    65000  22000\n",
            "1996    55000  16000\n",
            "1997    50000  14000\n",
            "1998    55000  19000\n",
            "1999    30000  23000\n",
            "\n",
            "[2000 rows x 2 columns]\n",
            "Car ID       int64\n",
            "Brand       object\n",
            "Model       object\n",
            "Year         int64\n",
            "Color       object\n",
            "Mileage      int64\n",
            "Price        int64\n",
            "Location    object\n",
            "dtype: object\n"
          ]
        }
      ]
    },
    {
      "cell_type": "code",
      "source": [
        "y=z['Price']\n",
        "print(y)\n",
        "print(d.dtypes)"
      ],
      "metadata": {
        "colab": {
          "base_uri": "https://localhost:8080/"
        },
        "id": "TNLPooq4sZpE",
        "outputId": "8b1b479a-bae3-4492-de1c-ff713886c92f"
      },
      "execution_count": 30,
      "outputs": [
        {
          "output_type": "stream",
          "name": "stdout",
          "text": [
            "0       18000\n",
            "1       16000\n",
            "2       14000\n",
            "3       12000\n",
            "4       15000\n",
            "        ...  \n",
            "1995    22000\n",
            "1996    16000\n",
            "1997    14000\n",
            "1998    19000\n",
            "1999    23000\n",
            "Name: Price, Length: 2000, dtype: int64\n",
            "Car ID       int64\n",
            "Brand       object\n",
            "Model       object\n",
            "Year         int64\n",
            "Color       object\n",
            "Mileage      int64\n",
            "Price        int64\n",
            "Location    object\n",
            "dtype: object\n"
          ]
        }
      ]
    },
    {
      "cell_type": "code",
      "source": [
        "x=z.drop('Price',axis=1)\n",
        "print(x)\n",
        "print(d.dtypes)"
      ],
      "metadata": {
        "colab": {
          "base_uri": "https://localhost:8080/"
        },
        "id": "SO2sc62dsn0P",
        "outputId": "5cf7aaa9-1fed-44e0-af2f-7d5352924399"
      },
      "execution_count": 31,
      "outputs": [
        {
          "output_type": "stream",
          "name": "stdout",
          "text": [
            "      Mileage\n",
            "0       45000\n",
            "1       35000\n",
            "2       55000\n",
            "3       60000\n",
            "4       40000\n",
            "...       ...\n",
            "1995    65000\n",
            "1996    55000\n",
            "1997    50000\n",
            "1998    55000\n",
            "1999    30000\n",
            "\n",
            "[2000 rows x 1 columns]\n",
            "Car ID       int64\n",
            "Brand       object\n",
            "Model       object\n",
            "Year         int64\n",
            "Color       object\n",
            "Mileage      int64\n",
            "Price        int64\n",
            "Location    object\n",
            "dtype: object\n"
          ]
        }
      ]
    },
    {
      "cell_type": "code",
      "source": [
        "import matplotlib.pyplot as plt\n",
        "\n",
        "plt.scatter(x, y)\n",
        "plt.xlabel(\"x\")\n",
        "plt.ylabel(\"y\")\n",
        "plt.title(\"Scatter Plot of x vs y\")\n",
        "plt.show()"
      ],
      "metadata": {
        "colab": {
          "base_uri": "https://localhost:8080/",
          "height": 472
        },
        "id": "Sbd0_jtB11nL",
        "outputId": "ed8389f8-7e7a-4239-ada2-4db27325e88d"
      },
      "execution_count": 41,
      "outputs": [
        {
          "output_type": "display_data",
          "data": {
            "text/plain": [
              "<Figure size 640x480 with 1 Axes>"
            ],
            "image/png": "[encoded data removed]"
          },
          "metadata": {}
        }
      ]
    },
    {
      "cell_type": "code",
      "source": [
        "z1=x-x.min()/(x.max()-x.min())\n",
        "print(z1)"
      ],
      "metadata": {
        "colab": {
          "base_uri": "https://localhost:8080/"
        },
        "id": "FQeFEVoYssJD",
        "outputId": "36d0173e-6fdc-4cf6-e39a-b2ef90b80d82"
      },
      "execution_count": 32,
      "outputs": [
        {
          "output_type": "stream",
          "name": "stdout",
          "text": [
            "           Mileage\n",
            "0     44999.444444\n",
            "1     34999.444444\n",
            "2     54999.444444\n",
            "3     59999.444444\n",
            "4     39999.444444\n",
            "...            ...\n",
            "1995  64999.444444\n",
            "1996  54999.444444\n",
            "1997  49999.444444\n",
            "1998  54999.444444\n",
            "1999  29999.444444\n",
            "\n",
            "[2000 rows x 1 columns]\n"
          ]
        }
      ]
    },
    {
      "cell_type": "code",
      "source": [
        "summary = z.describe(percentiles=[.25, .50, .75, .90])\n",
        "print(summary)"
      ],
      "metadata": {
        "colab": {
          "base_uri": "https://localhost:8080/"
        },
        "id": "36D_do4lsz4K",
        "outputId": "463b70f5-c463-4fef-f2d8-ef1a70ae2c41"
      },
      "execution_count": 33,
      "outputs": [
        {
          "output_type": "stream",
          "name": "stdout",
          "text": [
            "            Mileage         Price\n",
            "count   2000.000000   2000.000000\n",
            "mean   47452.500000  19605.000000\n",
            "std    11016.279906   4777.592249\n",
            "min    25000.000000  12000.000000\n",
            "25%    40000.000000  16000.000000\n",
            "50%    50000.000000  19000.000000\n",
            "75%    55000.000000  23000.000000\n",
            "90%    60000.000000  27000.000000\n",
            "max    70000.000000  29000.000000\n"
          ]
        }
      ]
    },
    {
      "cell_type": "code",
      "source": [
        "print(z.columns)"
      ],
      "metadata": {
        "colab": {
          "base_uri": "https://localhost:8080/"
        },
        "id": "Y6K48feOs4Ww",
        "outputId": "cdbe1b90-1b41-459c-ae33-768bc4356662"
      },
      "execution_count": 34,
      "outputs": [
        {
          "output_type": "stream",
          "name": "stdout",
          "text": [
            "Index(['Mileage', 'Price'], dtype='object')\n"
          ]
        }
      ]
    },
    {
      "cell_type": "code",
      "source": [
        "from sklearn.preprocessing import StandardScaler\n",
        "scaler = StandardScaler()\n",
        "scaler.fit(x)\n",
        "x_scaled = scaler.transform(x)"
      ],
      "metadata": {
        "id": "W4cF3Zfls8LH"
      },
      "execution_count": 35,
      "outputs": []
    },
    {
      "cell_type": "code",
      "source": [
        "from sklearn.model_selection import train_test_split\n",
        "x_train,x_test,y_train,y_test=train_test_split(x_scaled,y,test_size=0.2,random_state=1)"
      ],
      "metadata": {
        "id": "xy3iqBOqtK95"
      },
      "execution_count": 36,
      "outputs": []
    },
    {
      "cell_type": "code",
      "source": [
        "from sklearn.neighbors import KNeighborsClassifier\n",
        "knn = KNeighborsClassifier(n_neighbors=5)\n",
        "knn.fit(x_train, y_train)\n",
        "\n",
        "y_pred = knn.predict(x_test)\n",
        "y_pred1=knn.predict(x_train)\n",
        "\n",
        "print(y_pred)\n",
        "print()\n",
        "print(y_pred1)"
      ],
      "metadata": {
        "colab": {
          "base_uri": "https://localhost:8080/"
        },
        "id": "gAxg8KV3tObE",
        "outputId": "ac97abc8-7223-4f9f-f891-540e52dcc05d"
      },
      "execution_count": 37,
      "outputs": [
        {
          "output_type": "stream",
          "name": "stdout",
          "text": [
            "[22000 22000 15000 15000 14000 14000 22000 22000 22000 14000 19000 15000\n",
            " 25000 18000 22000 18000 14000 18000 18000 14000 25000 14000 14000 14000\n",
            " 18000 18000 25000 15000 22000 14000 18000 14000 22000 18000 19000 22000\n",
            " 14000 14000 22000 18000 18000 14000 22000 22000 14000 14000 14000 15000\n",
            " 14000 25000 18000 14000 15000 22000 18000 18000 15000 18000 22000 18000\n",
            " 18000 25000 22000 25000 22000 18000 18000 18000 15000 25000 14000 14000\n",
            " 14000 18000 18000 25000 18000 22000 14000 18000 14000 22000 14000 22000\n",
            " 25000 18000 15000 15000 14000 18000 14000 18000 25000 18000 22000 18000\n",
            " 15000 18000 25000 22000 15000 15000 18000 18000 25000 15000 15000 18000\n",
            " 22000 22000 15000 15000 18000 14000 18000 19000 14000 22000 25000 14000\n",
            " 18000 18000 25000 15000 14000 14000 14000 22000 14000 14000 22000 22000\n",
            " 14000 14000 25000 18000 18000 18000 18000 14000 22000 18000 15000 14000\n",
            " 14000 25000 22000 14000 22000 15000 18000 18000 18000 18000 25000 25000\n",
            " 14000 22000 18000 22000 18000 18000 14000 22000 22000 19000 15000 25000\n",
            " 22000 18000 15000 18000 22000 22000 18000 15000 18000 25000 22000 15000\n",
            " 22000 14000 14000 22000 22000 22000 18000 18000 15000 18000 14000 14000\n",
            " 22000 14000 22000 15000 15000 15000 25000 14000 18000 14000 18000 15000\n",
            " 22000 22000 14000 22000 18000 25000 25000 15000 22000 22000 25000 14000\n",
            " 22000 14000 14000 18000 14000 15000 15000 15000 15000 15000 14000 18000\n",
            " 15000 18000 14000 25000 15000 14000 22000 18000 14000 14000 18000 22000\n",
            " 22000 14000 22000 22000 22000 18000 18000 22000 15000 18000 14000 18000\n",
            " 19000 22000 14000 14000 18000 14000 14000 18000 22000 18000 18000 18000\n",
            " 19000 14000 15000 15000 15000 22000 18000 14000 14000 15000 25000 14000\n",
            " 14000 22000 18000 18000 22000 18000 22000 25000 18000 15000 25000 14000\n",
            " 18000 15000 22000 18000 14000 25000 14000 25000 25000 15000 18000 18000\n",
            " 15000 25000 14000 14000 14000 22000 14000 18000 22000 15000 25000 14000\n",
            " 25000 15000 14000 18000 18000 22000 18000 15000 22000 25000 18000 15000\n",
            " 14000 18000 22000 15000 14000 25000 25000 22000 18000 25000 22000 25000\n",
            " 18000 18000 22000 14000 14000 22000 15000 22000 25000 22000 15000 14000\n",
            " 15000 14000 14000 25000 25000 19000 14000 22000 15000 22000 18000 15000\n",
            " 15000 18000 25000 18000 22000 14000 22000 22000 18000 25000 22000 25000\n",
            " 18000 14000 15000 14000 22000 18000 18000 18000 14000 18000 22000 25000\n",
            " 25000 22000 15000 15000 18000 25000 14000 22000 22000 25000 22000 22000\n",
            " 25000 22000 18000 22000]\n",
            "\n",
            "[18000 22000 14000 ... 14000 14000 14000]\n"
          ]
        }
      ]
    },
    {
      "cell_type": "code",
      "source": [
        "from sklearn.metrics import accuracy_score\n",
        "print(accuracy_score(y_test, y_pred))\n",
        "print(accuracy_score(y_train, y_pred1))"
      ],
      "metadata": {
        "colab": {
          "base_uri": "https://localhost:8080/"
        },
        "id": "nyTOxn_FvGx2",
        "outputId": "26578681-8159-476f-f370-9a729e8a9856"
      },
      "execution_count": 38,
      "outputs": [
        {
          "output_type": "stream",
          "name": "stdout",
          "text": [
            "0.1825\n",
            "0.220625\n"
          ]
        }
      ]
    },
    {
      "cell_type": "code",
      "source": [
        "from sklearn.metrics import confusion_matrix\n",
        "cm = confusion_matrix(y_test, y_pred)\n",
        "print(cm)"
      ],
      "metadata": {
        "colab": {
          "base_uri": "https://localhost:8080/"
        },
        "id": "5Bqh77gttV9U",
        "outputId": "fc96ae22-027d-4d10-b26a-ae6dbcf44686"
      },
      "execution_count": 39,
      "outputs": [
        {
          "output_type": "stream",
          "name": "stdout",
          "text": [
            "[[ 0  6  0  0  0  5  0  0  0 24  0  0  0  0  0  0  0]\n",
            " [ 0 13  8  0  0  0  0  0  0  6  0  0  4  0  0  0  0]\n",
            " [ 0 21  6  0  0  0  0  0  0  8  0  0  0  0  0  0  0]\n",
            " [ 0  0  0  0  0  9  0  0  0  9  0  0  3  0  0  0  0]\n",
            " [ 0 16 11  0  0  0  0  0  0  0  0  0  0  0  0  0  0]\n",
            " [ 0  2  9  0  0 22  0  0  0  0  0  0  4  0  0  0  0]\n",
            " [ 0  5  0  0  0  0  7  0  0 18  0  0  0  0  0  0  0]\n",
            " [ 0  0  0  0  0  6  0  0  0  0  0  0 11  0  0  0  0]\n",
            " [ 0 13 12  0  0  0  0  0  0  0  0  0  0  0  0  0  0]\n",
            " [ 0  0  2  0  0  0  0  0  0 17  0  0  0  0  0  0  0]\n",
            " [ 0  8  0  0  0 13  0  0  0  0  0  0  0  0  0  0  0]\n",
            " [ 0  5  0  0  0  0  0  0  0  8  0  0  8  0  0  0  0]\n",
            " [ 0  3  5  0  0  0  0  0  0  0  0  0  8  0  0  0  0]\n",
            " [ 0  0  0  0  0 13  0  0  0  0  0  0  0  0  0  0  0]\n",
            " [ 0  0  7  0  0 10  0  0  0  0  0  0  9  0  0  0  0]\n",
            " [ 0  0  0  0  0 10  0  0  0  0  0  0  3  0  0  0  0]\n",
            " [ 0  0  0  0  0 13  0  0  0  0  0  0  0  0  0  0  0]]\n"
          ]
        }
      ]
    },
    {
      "cell_type": "code",
      "source": [
        "from sklearn.metrics import classification_report\n",
        "report = classification_report(y_test, y_pred)\n",
        "print(report)"
      ],
      "metadata": {
        "colab": {
          "base_uri": "https://localhost:8080/"
        },
        "id": "RaewigNZuIjS",
        "outputId": "586597cf-6f18-4828-d50b-da6d688c6fff"
      },
      "execution_count": 40,
      "outputs": [
        {
          "output_type": "stream",
          "name": "stdout",
          "text": [
            "              precision    recall  f1-score   support\n",
            "\n",
            "       12000       0.00      0.00      0.00        35\n",
            "       14000       0.14      0.42      0.21        31\n",
            "       15000       0.10      0.17      0.13        35\n",
            "       16000       0.00      0.00      0.00        21\n",
            "       17000       0.00      0.00      0.00        27\n",
            "       18000       0.22      0.59      0.32        37\n",
            "       19000       1.00      0.23      0.38        30\n",
            "       20000       0.00      0.00      0.00        17\n",
            "       21000       0.00      0.00      0.00        25\n",
            "       22000       0.19      0.89      0.31        19\n",
            "       23000       0.00      0.00      0.00        21\n",
            "       24000       0.00      0.00      0.00        21\n",
            "       25000       0.16      0.50      0.24        16\n",
            "       26000       0.00      0.00      0.00        13\n",
            "       27000       0.00      0.00      0.00        26\n",
            "       28000       0.00      0.00      0.00        13\n",
            "       29000       0.00      0.00      0.00        13\n",
            "\n",
            "    accuracy                           0.18       400\n",
            "   macro avg       0.11      0.17      0.09       400\n",
            "weighted avg       0.13      0.18      0.11       400\n",
            "\n"
          ]
        },
        {
          "output_type": "stream",
          "name": "stderr",
          "text": [
            "/usr/local/lib/python3.10/dist-packages/sklearn/metrics/_classification.py:1531: UndefinedMetricWarning: Precision is ill-defined and being set to 0.0 in labels with no predicted samples. Use `zero_division` parameter to control this behavior.\n",
            "  _warn_prf(average, modifier, f\"{metric.capitalize()} is\", len(result))\n",
            "/usr/local/lib/python3.10/dist-packages/sklearn/metrics/_classification.py:1531: UndefinedMetricWarning: Precision is ill-defined and being set to 0.0 in labels with no predicted samples. Use `zero_division` parameter to control this behavior.\n",
            "  _warn_prf(average, modifier, f\"{metric.capitalize()} is\", len(result))\n",
            "/usr/local/lib/python3.10/dist-packages/sklearn/metrics/_classification.py:1531: UndefinedMetricWarning: Precision is ill-defined and being set to 0.0 in labels with no predicted samples. Use `zero_division` parameter to control this behavior.\n",
            "  _warn_prf(average, modifier, f\"{metric.capitalize()} is\", len(result))\n"
          ]
        }
      ]
    },
    {
      "cell_type": "code",
      "source": [],
      "metadata": {
        "id": "Ynof7E4luYda"
      },
      "execution_count": null,
      "outputs": []
    }
  ]
}